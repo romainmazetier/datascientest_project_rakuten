{
 "cells": [
  {
   "cell_type": "markdown",
   "id": "ab29d0c9-3398-4006-8811-a5be60f05fdf",
   "metadata": {},
   "source": [
    "# Imports"
   ]
  },
  {
   "cell_type": "code",
   "execution_count": null,
   "id": "9ec09625-92f7-41cf-8b5c-559dbee023da",
   "metadata": {},
   "outputs": [],
   "source": [
    "import pandas as pd\n",
    "import numpy as np\n",
    "\n",
    "from sklearn.model_selection import train_test_split\n",
    "\n",
    "import cv2\n",
    "\n",
    "import os"
   ]
  },
  {
   "cell_type": "code",
   "execution_count": null,
   "id": "a54a37a3-3377-4af1-8f3f-3920bc0acc11",
   "metadata": {},
   "outputs": [],
   "source": [
    "X = pd.read_csv('/Users/antoine/Documents/DataScientest/Projet/data/X_train.csv', index_col=0)\n",
    "y = pd.read_csv('/Users/antoine/Documents/DataScientest/Projet/data/Y_train.csv', index_col=0)"
   ]
  },
  {
   "cell_type": "markdown",
   "id": "7755f6e8-cf34-48db-aec3-97a0484d41ec",
   "metadata": {},
   "source": [
    "# Train / val / test split"
   ]
  },
  {
   "cell_type": "code",
   "execution_count": null,
   "id": "cee3d4f1-7010-4306-9a36-fb8b2c5e535b",
   "metadata": {},
   "outputs": [],
   "source": [
    "X_train, X_test, y_train, y_test = train_test_split(X, y, test_size=0.2, random_state=0, stratify=y)\n",
    "\n",
    "X_train, X_val, y_train, y_val = train_test_split(X_train, y_train, test_size=0.2, random_state=0, stratify=y_train)"
   ]
  },
  {
   "cell_type": "markdown",
   "id": "f808c11a-70ba-40b8-bbd3-5270824dbc4b",
   "metadata": {},
   "source": [
    "# Resize & sort images"
   ]
  },
  {
   "cell_type": "code",
   "execution_count": null,
   "id": "153767db-2388-46f7-84a4-ecd40685db5f",
   "metadata": {},
   "outputs": [],
   "source": [
    "original_img_dir = \"/Users/antoine/Pictures/DataScientest_Rakuten/original/image_train/\"\n",
    "train_set_path = \"/Users/antoine/Pictures/DataScientest_Rakuten/sorted/train_dataset/\"\n",
    "val_set_path = \"/Users/antoine/Pictures/DataScientest_Rakuten/sorted/val_dataset/\""
   ]
  },
  {
   "cell_type": "code",
   "execution_count": null,
   "id": "36cdedf8-60d7-4822-a700-bd404bf75336",
   "metadata": {},
   "outputs": [],
   "source": [
    "def img_preprocessing(img_filename, input_dir, output_dir, width=224, height=224, cropping=True):\n",
    "\n",
    "    \"\"\"\n",
    "    - Par défaut, recadre l'image en lui retirant ses marges blanches si elle en a ;\n",
    "    - Redimensionne l'image en 224 x 224 par défaut, ou selon les dimensions passées en arguments 'width' et 'height'\n",
    "    \"\"\"\n",
    "\n",
    "    # Lecture de l'image avec OpenCV\n",
    "    img = cv2.imread(input_dir + img_filename)\n",
    "\n",
    "    if cropping:\n",
    "        # Conversion de l'image en niveaux de gris\n",
    "        img_gray = cv2.cvtColor(img, cv2.COLOR_BGR2GRAY)\n",
    "    \n",
    "        # Inversion des niveaux de gris\n",
    "        img_reversed = cv2.bitwise_not(img_gray)\n",
    "    \n",
    "        # Recherche des contours dans l'image\n",
    "        contours, hierarchy = cv2.findContours(img_reversed, cv2.RETR_EXTERNAL, cv2.CHAIN_APPROX_SIMPLE)\n",
    "    \n",
    "        if contours:\n",
    "            # Recherche du contour le plus externe\n",
    "            contour_external = max(contours, key=cv2.contourArea)\n",
    "    \n",
    "            # Recherche des coordonnées du rectangle englobant le contour externe\n",
    "            x_min, y_min, w, h = cv2.boundingRect(contour_external)\n",
    "    \n",
    "            # Rognement de l'image en utilisant les coordonnées du rectangle englobant\n",
    "            img = img[y_min:y_min+h, x_min:x_min+w]\n",
    "\n",
    "    # Redimensionnement de l'image\n",
    "    img_resized = cv2.resize(img, (width, height))\n",
    "    \n",
    "    # Enregistrement de l'image dans le répertoire de sortie\n",
    "    cv2.imwrite(os.path.join(output_dir + img_filename), img_resized)\n",
    "    "
   ]
  },
  {
   "cell_type": "code",
   "execution_count": null,
   "id": "73ac995d-cace-4c2f-a005-584a5f2e448b",
   "metadata": {},
   "outputs": [],
   "source": [
    "for X_, y_, path in zip((X_train, X_val), (y_train, y_val), (train_set_path, val_set_path)):\n",
    "\n",
    "    for prdtypecode in y_['prdtypecode'].unique():\n",
    "        if not os.path.exists(path + str(prdtypecode)):\n",
    "            os.makedirs(path + str(prdtypecode))\n",
    "            indexes = y_.loc[y_['prdtypecode']==prdtypecode].index\n",
    "            for idx in indexes:\n",
    "                filename = f\"image_{X_.loc[idx, 'imageid']}_product_{X_.loc[idx, 'productid']}.jpg\"\n",
    "                img_preprocessing(filename, input_dir = original_img_dir, output_dir = path + str(prdtypecode) + '/')\n"
   ]
  }
 ],
 "metadata": {
  "kernelspec": {
   "display_name": "Python 3 (ipykernel)",
   "language": "python",
   "name": "python3"
  },
  "language_info": {
   "codemirror_mode": {
    "name": "ipython",
    "version": 3
   },
   "file_extension": ".py",
   "mimetype": "text/x-python",
   "name": "python",
   "nbconvert_exporter": "python",
   "pygments_lexer": "ipython3",
   "version": "3.10.14"
  }
 },
 "nbformat": 4,
 "nbformat_minor": 5
}
