{
 "cells": [
  {
   "cell_type": "code",
   "execution_count": 1,
   "id": "577875af-e79a-406b-b16d-d48b0e91e6f8",
   "metadata": {},
   "outputs": [
    {
     "name": "stderr",
     "output_type": "stream",
     "text": [
      "C:\\Users\\Nans\\miniconda3\\envs\\rakuten_project_tf\\lib\\site-packages\\tensorflow_addons\\utils\\tfa_eol_msg.py:23: UserWarning: \n",
      "\n",
      "TensorFlow Addons (TFA) has ended development and introduction of new features.\n",
      "TFA has entered a minimal maintenance and release mode until a planned end of life in May 2024.\n",
      "Please modify downstream libraries to take dependencies from other repositories in our TensorFlow community (e.g. Keras, Keras-CV, and Keras-NLP). \n",
      "\n",
      "For more information see: https://github.com/tensorflow/addons/issues/2807 \n",
      "\n",
      "  warnings.warn(\n",
      "C:\\Users\\Nans\\miniconda3\\envs\\rakuten_project_tf\\lib\\site-packages\\tensorflow_addons\\utils\\ensure_tf_install.py:53: UserWarning: Tensorflow Addons supports using Python ops for all Tensorflow versions above or equal to 2.12.0 and strictly below 2.15.0 (nightly versions are not supported). \n",
      " The versions of TensorFlow you are currently using is 2.10.1 and is not supported. \n",
      "Some things might work, some things might not.\n",
      "If you were to encounter a bug, do not file an issue.\n",
      "If you want to make sure you're using a tested and supported configuration, either change the TensorFlow version or the TensorFlow Addons's version. \n",
      "You can find the compatibility matrix in TensorFlow Addon's readme:\n",
      "https://github.com/tensorflow/addons\n",
      "  warnings.warn(\n"
     ]
    }
   ],
   "source": [
    "import tensorflow as tf\n",
    "from tensorflow.keras.models import load_model\n",
    "\n",
    "from tensorflow.keras.applications.efficientnet_v2 import EfficientNetV2M\n",
    "import tensorflow_addons as tfa\n",
    "from sklearn.metrics import classification_report\n",
    "\n",
    "import joblib\n",
    "import h5py\n",
    "import numpy as np"
   ]
  },
  {
   "cell_type": "code",
   "execution_count": 6,
   "id": "c2f2cfe4-35b4-4024-8aa9-fd633a30fd68",
   "metadata": {},
   "outputs": [],
   "source": [
    "# Chemin vers l'objet LabelEncoder sauvegardé\n",
    "label_encoder_path = \"../../models/label_encoder.pkl\"\n",
    "label_encoder = joblib.load(label_encoder_path)\n",
    "class_labels = label_encoder.classes_\n",
    "\n",
    "def run_model_combi(X_test_img, y_test):\n",
    "    model = load_model('../../models/tuned_transfer_learning_effi3b_weightclass.h5')\n",
    "    pred = model.predict(X_test_img)\n",
    "    \n",
    "    y_pred = np.argmax(pred, axis = -1)\n",
    "    y_true = np.argmax(y_test, axis = -1)\n",
    "    \n",
    "    report = classification_report(np.array(y_true), np.array(y_pred), target_names=list(map(str,label_encoder.classes_)), output_dict=True)\n",
    "    cm = tf.math.confusion_matrix(labels=y_true, predictions=y_pred).numpy()\n",
    "    normalized_cm = cm.astype('float') / cm.sum(axis=1)[:, np.newaxis]\n",
    "    \n",
    "    return report, normalized_cm\n"
   ]
  },
  {
   "cell_type": "code",
   "execution_count": 10,
   "id": "cbc46ce8-a69b-489f-a126-1180560ea59f",
   "metadata": {},
   "outputs": [],
   "source": [
    "# Lire le tableau à partir du fichier HDF5\n",
    "with h5py.File('xy_val_224.h5', 'r') as f:\n",
    "    x_img_val = f['x_img_val'][:1000]\n",
    "    y_val = f['y_val'][:1000]"
   ]
  },
  {
   "cell_type": "code",
   "execution_count": 11,
   "id": "c19db4dc-eafc-43c6-bdf4-5d454fcda8bc",
   "metadata": {},
   "outputs": [
    {
     "name": "stdout",
     "output_type": "stream",
     "text": [
      "32/32 [==============================] - 5s 101ms/step\n"
     ]
    }
   ],
   "source": [
    "report, cm = run_model_combi(x_img_val, y_val)"
   ]
  },
  {
   "cell_type": "code",
   "execution_count": null,
   "id": "88bf5660-5c0d-42cc-9278-6bb9ff0a5fa9",
   "metadata": {},
   "outputs": [],
   "source": []
  }
 ],
 "metadata": {
  "kernelspec": {
   "display_name": "rakuten_project_tf",
   "language": "python",
   "name": "rakuten_project_tf"
  },
  "language_info": {
   "codemirror_mode": {
    "name": "ipython",
    "version": 3
   },
   "file_extension": ".py",
   "mimetype": "text/x-python",
   "name": "python",
   "nbconvert_exporter": "python",
   "pygments_lexer": "ipython3",
   "version": "3.10.14"
  }
 },
 "nbformat": 4,
 "nbformat_minor": 5
}
